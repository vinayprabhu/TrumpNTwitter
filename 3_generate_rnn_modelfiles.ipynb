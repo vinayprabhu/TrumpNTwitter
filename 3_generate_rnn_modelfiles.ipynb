{
 "cells": [
  {
   "cell_type": "markdown",
   "metadata": {
    "colab_type": "text",
    "id": "H7LoMj4GA4n_"
   },
   "source": [
    "#  Interactive textgenrnn Demo w/ GPU\n",
    "\n",
    "by [Max Woolf](http://minimaxir.com)\n",
    "\n",
    "Generate text using a pretrained neural network with a few lines of code, or easily train your own text-generating neural network of any size and complexity, **for free on a GPU using Collaboratory!**\n",
    "\n",
    "For more about textgenrnn, you can visit [this GitHub repository](https://github.com/minimaxir/textgenrnn).\n",
    "\n",
    "\n",
    "To get started:\n",
    "\n",
    "1. Copy this notebook to your Google Drive to keep it and save your changes.\n",
    "2. Make sure you're running the notebook in Google Chrome.\n",
    "3. Run the cells below:\n"
   ]
  },
  {
   "cell_type": "code",
   "execution_count": 1,
   "metadata": {
    "colab": {
     "base_uri": "https://localhost:8080/",
     "height": 34
    },
    "colab_type": "code",
    "id": "KBkpRgBCBS2_",
    "outputId": "36fdcc0d-4a23-4873-f96e-c9677dab906a"
   },
   "outputs": [
    {
     "name": "stderr",
     "output_type": "stream",
     "text": [
      "Using TensorFlow backend.\n"
     ]
    }
   ],
   "source": [
    "!pip install -q textgenrnn\n",
    "from google.colab import files\n",
    "from textgenrnn import textgenrnn\n",
    "import os"
   ]
  },
  {
   "cell_type": "markdown",
   "metadata": {
    "colab_type": "text",
    "id": "0wXB05bPDYxS"
   },
   "source": [
    "Set the textgenrnn model configuration here. (see the [demo notebook](https://github.com/minimaxir/textgenrnn/blob/master/docs/textgenrnn-demo.ipynb) for more information about these parameters)\n",
    "\n",
    "If you are using an input file where documents are line-delimited, set `line_delimited` to `True`."
   ]
  },
  {
   "cell_type": "code",
   "execution_count": 0,
   "metadata": {
    "colab": {},
    "colab_type": "code",
    "collapsed": true,
    "id": "P8wSlgXoDPCR"
   },
   "outputs": [],
   "source": [
    "model_cfg = {\n",
    "    'rnn_size': 128,\n",
    "    'rnn_layers': 4,\n",
    "    'rnn_bidirectional': True,\n",
    "    'max_length': 40,\n",
    "    'max_words': 10000,\n",
    "    'dim_embeddings': 100,\n",
    "    'word_level': False,\n",
    "}\n",
    "\n",
    "train_cfg = {\n",
    "    'line_delimited': False,\n",
    "    'num_epochs': 20,\n",
    "    'gen_epochs': 4,\n",
    "    'batch_size': 1024,\n",
    "    'train_size': 0.8,\n",
    "    'dropout': 0.0,\n",
    "    'max_gen_length': 300,\n",
    "    'validation': False,\n",
    "    'is_csv': False\n",
    "}"
   ]
  },
  {
   "cell_type": "markdown",
   "metadata": {
    "colab_type": "text",
    "id": "BT__brhBCvJu"
   },
   "source": [
    "After running the next cell, the cell will ask you to upload a file. Upload **any text file** and textgenrnn will start training and generating creative text based on that file!\n",
    "\n",
    "The cell after that will start the training. And thanks to the power of Keras's CuDNN layers, training is super-fast! When the training is done, running the cell after this will automatically download the weights, the vocab, and the config.\n",
    "\n",
    "(N.B. the uploaded file is only stored in the Colaboratory VM and no one else can see it)"
   ]
  },
  {
   "cell_type": "code",
   "execution_count": 3,
   "metadata": {
    "colab": {
     "base_uri": "https://localhost:8080/",
     "height": 73,
     "resources": {
      "http://localhost:8080/nbextensions/google.colab/files.js": {
       "data": "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",
       "headers": [
        [
         "content-type",
         "application/javascript"
        ]
       ],
       "ok": true,
       "status": 200,
       "status_text": ""
      }
     }
    },
    "colab_type": "code",
    "id": "6OFnPCLADfll",
    "outputId": "5388ce47-1ac3-4fbc-fd50-38a711070ea9"
   },
   "outputs": [
    {
     "data": {
      "text/html": [
       "\n",
       "     <input type=\"file\" id=\"files-00c1baca-5e8a-45a8-ab49-d8981ca6d878\" name=\"files[]\" multiple disabled />\n",
       "     <output id=\"result-00c1baca-5e8a-45a8-ab49-d8981ca6d878\">\n",
       "      Upload widget is only available when the cell has been executed in the\n",
       "      current browser session. Please rerun this cell to enable.\n",
       "      </output>\n",
       "      <script src=\"/nbextensions/google.colab/files.js\"></script> "
      ],
      "text/plain": [
       "<IPython.core.display.HTML object>"
      ]
     },
     "metadata": {
      "tags": []
     },
     "output_type": "display_data"
    },
    {
     "name": "stdout",
     "output_type": "stream",
     "text": [
      "Saving trump_tweets.txt to trump_tweets.txt\n"
     ]
    }
   ],
   "source": [
    "uploaded = files.upload()\n",
    "all_files = [(name, os.path.getmtime(name)) for name in os.listdir()]\n",
    "latest_file = sorted(all_files, key=lambda x: -x[1])[0][0]"
   ]
  },
  {
   "cell_type": "code",
   "execution_count": 8,
   "metadata": {
    "colab": {
     "base_uri": "https://localhost:8080/",
     "height": 3010
    },
    "colab_type": "code",
    "id": "aeXshJM-Cuaf",
    "outputId": "babb205c-30b3-4894-94d4-988401f008fb"
   },
   "outputs": [
    {
     "name": "stdout",
     "output_type": "stream",
     "text": [
      "Training new model w/ 4-layer, 128-cell Bidirectional LSTMs\n",
      "Training on 234,142 character sequences.\n",
      "Epoch 1/20\n",
      "228/228 [==============================] - 90s 395ms/step - loss: 2.8304\n",
      "Epoch 2/20\n",
      "228/228 [==============================] - 87s 383ms/step - loss: 2.1307\n",
      "Epoch 3/20\n",
      "228/228 [==============================] - 87s 383ms/step - loss: 1.8104\n",
      "Epoch 4/20\n",
      "228/228 [==============================] - 87s 383ms/step - loss: 1.5969\n",
      "####################\n",
      "Temperature: 0.2\n",
      "####################\n",
      "n the United States with the United States of the U.S. is doing the people with the United States of the United States and the United States to the people who has a great stated the United States of the United States to the U.S. in the firest the progress to the United States of the Democrats are pr\n",
      "\n",
      "o some the people with the White House to the United States and the United States and the United States and Democrats will be going to the progestiment in the politic of the National Countries is protecting the people with the proplement in the progress to the people with the U.S. in the United Stat\n",
      "\n",
      " which is not the people of the people with the coment the United States and the Democrats to the progess to be prople the Fake News Media will be highly the progess the with the people with the progress the proplement is the people with the people with the United States to the United States is come\n",
      "\n",
      "####################\n",
      "Temperature: 0.5\n",
      "####################\n",
      "ates to the believely from the  While Hillary Cliferal Frece some the fired play  White is not the highly the people of the Great members in the who hard the see of the promies and the families the Comprients with Hillary - the security in our countries, whos is the because the families of the being\n",
      "\n",
      " with the phie the Democrats to the wored clear of the pols to well be while is a massive who are while the U.S. Mexicranings to the U.S. took the the  When would be it it was immigration shorters and the wonderful the FBI to the Democrats will be protecting a great some while is my great starting w\n",
      "\n",
      "ts members of the poliers victory in the United States in a great remier of the peal is recided than working to prouders to for the welling in the FBI has with the Great hit the for the disgraced the Fastratic as the protorment is the progectly the mustic the farmers to was a many to starting the FB\n",
      "\n",
      "####################\n",
      "Temperature: 1.0\n",
      "####################\n",
      "etional Chilp the DNC. the very (election it what we not competer, in the D.C. FIST PROMS MAGAND THE LUTED! Milith Republicas if with morey, no redustiment of Mirilorinie Scutt meeting somethimer his Fruclipppyic parding thank the incredible Steils 22 yearsuled whiting trovilling the out the U.S. th\n",
      "\n",
      "es on this priming helt obstulic that phuce our deactive call pleasing togething crusing sheritable at the life to be the Ucitizimbey in the grest promiments propectivims times, whosed of year, they remoring doing delied (everybe tremed the end, why costing, claum of the maky workty within NYC. Depe\n",
      "\n",
      "e op a better GREAT deceras of China is invistictied the it cits. Get with, a deciders but it but! It will be great trade. What be innowstied Countrie has enceam. They didnt traze it very be with  The Forcief mast be withly which Obama is repriented tomberies and saldy trade when  Fast tittes him hi\n",
      "\n",
      "Epoch 5/20\n",
      "228/228 [==============================] - 88s 386ms/step - loss: 1.4630\n",
      "Epoch 6/20\n",
      "228/228 [==============================] - 88s 384ms/step - loss: 1.3662\n",
      "Epoch 7/20\n",
      "228/228 [==============================] - 88s 385ms/step - loss: 1.2880\n",
      "Epoch 8/20\n",
      "228/228 [==============================] - 88s 384ms/step - loss: 1.2197\n",
      "####################\n",
      "Temperature: 0.2\n",
      "####################\n",
      "o welcome President Obama Administration and the farmers are with the Dems of the Dems of the FBI and the deals on the FBI and the Fake News Media is a great country is doing a farmers are with the fact that the Fake News Media and the FBI on the United States are now the fact that the fact that the\n",
      "\n",
      " and the Fake News Media is a far many tax cuts on the FBI and the people of the United States is doing a fantastic job and disgraced the Dems of the United States is a truly done a fantastic job and representative the Fake News CNN and the economy is a government of the United States is a truly don\n",
      "\n",
      "re going on the people with the Dems of the Fake News Media and the FBI and the fact that the Fake News Media is a truly being with the U.S. is a great news are a government and the world a fantastic job and many of the people of the FBI and the fact that the Fake News Media is a disgraced the Dems \n",
      "\n",
      "####################\n",
      "Temperature: 0.5\n",
      "####################\n",
      " the families who good and refensed the Senate of the people with the discusity on @foxandfriends and political people of the United States has not going on and compliment on a major and soon and only that the Fake News is a deadly that the farmers with the deals of the farmers are only to give this\n",
      "\n",
      "tates are now the Stock Market with a very good for the FBI and the Fake News Media and the direction with President of Pennsylvania is doing a truly working very good for the fire and disaster in the U.S. Media is doing better the farmers with the facts the biggest of the American Chinese the big C\n",
      "\n",
      "s on his dollars that the Fake News Media has accusing and crimes to the Republicans are on the people not at the GOP  While these was not doll to get the 2016  We will be have a country is in the family down a day that the Fake News Media that the Senate of Open Country, which is now with anl other\n",
      "\n",
      "####################\n",
      "Temperature: 1.0\n",
      "####################\n",
      "veryone positive them thoughts of flients- I get us! Their soon! Thank you this? We are now the jurice Flake on Farnier Wi  Rong gastled  Remember. Great news have @FoxNews was nighter against the Fake Ameity Donner Year, the Senate a  Happy Advera was pesisled. Whil together presidential was into D\n",
      "\n",
      " National Gractuty was feem! Very goverman, now! A truly dont Steelelb and ridiculous news, not going crime, we are not? In West Virginig governed by the Fake News peopers they are now! Our great job prior and very good for their citizens, a dead, our his. Spice being with Russia letter 300% of the \n",
      "\n",
      "st done on Wasgines, is WINNING AXE THE DOWH, Arm Houstania is now right, order today: for mention in First La  Cun Media thost maky of fulling meetings great), is anytiral totally day everyone mainey with Mike Pompeo with Doshuel  Predome Pene Military Hillary Clinton at Alan De must right with the\n",
      "\n",
      "Epoch 9/20\n",
      "228/228 [==============================] - 88s 384ms/step - loss: 1.1562\n",
      "Epoch 10/20\n",
      "228/228 [==============================] - 87s 383ms/step - loss: 1.0970\n",
      "Epoch 11/20\n",
      "228/228 [==============================] - 87s 382ms/step - loss: 1.0390\n",
      "Epoch 12/20\n",
      "228/228 [==============================] - 87s 383ms/step - loss: 0.9848\n",
      "####################\n",
      "Temperature: 0.2\n",
      "####################\n",
      "fair trade deal on a really good news and hard on the people who have been a great day for the FBI and the Democrats have been done a fantastic job and have been a great new book at the White House to the Republican Party, but it was my great honor to welcome President Trump is no seem to be in the \n",
      "\n",
      "es to represented that the FBI lover the people who have been done because the Fake News Media continues to start that the Fake News Media continues to the @WhiteHouse to the Fake News Media continues to have been a committed to the story of the United States has done made a fantastic job and most i\n",
      "\n",
      " day for the FBI and the Democrats have been done bad and statement in the FBI and the Fake News Media continues to the Republican Party, the Democrats are bringing back to the United States has been a great day for the FBI and the Fake News Media have been a great people of the United States has an\n",
      "\n",
      "####################\n",
      "Temperature: 0.5\n",
      "####################\n",
      " welcome President Obama state and most start that we have been done down the biggest in the Rigged Witch Hunt and the Democrats have been been honored to present with @Hingon just has an incredible men and women of any prayers are migration and concerned that the Democrats have been under to be add\n",
      "\n",
      "e Illicit Schumer has done by the people who has been a complete the Fake News Media is going to go wif the Trade Deal with The Stock Market hit as the end of the U.S. Steel  The Fake News Media is a fortune worse that we will not interviewed by the Fake News Media comments in the Republican Party. \n",
      "\n",
      "Fake News Media committee that I dont come on Trump back in the Senate from Obama. I look forward to meeting with the White House trying to have no discussing that but could statement rememplie in Washington Post is doing the FBI had a great day for the Stock Market hit and it has an entready of my \n",
      "\n",
      "####################\n",
      "Temperature: 1.0\n",
      "####################\n",
      "ntation  My great honor to harge  7016 Top pushers and virtuell wants talented person, many times from the b  Showed McCarthy and what a fortune on No  Rasmussen  There is alimbel to Iranian enthorment in the history, on Border Balf  The Democrats have also being create in pushest Epepinglembancy. E\n",
      "\n",
      "e a find out. If Center Enjoy! @WEGA and the United States h  A lates for 5  .@G7!Tacker, @LeeaHaids elsement Security are forever since trile in talk derairct our fag me that the are signing the  ......In the holding on Monday Lezin Wasteful will not restern than what aren  Rauly McMaster at the Se\n",
      "\n",
      "s been creasing his law firm by the United States great meetings have States just government by White House to the White House)!  Yet were make had a very not wonderful by 2,000 Do, that there loves  In the Stock Market has fulfally wants bad back on whick the court. We were help do up that this rep\n",
      "\n",
      "Epoch 13/20\n",
      "228/228 [==============================] - 88s 385ms/step - loss: 0.9309\n",
      "Epoch 14/20\n",
      "228/228 [==============================] - 87s 383ms/step - loss: 0.8791\n",
      "Epoch 15/20\n",
      "228/228 [==============================] - 87s 383ms/step - loss: 0.8299\n",
      "Epoch 16/20\n",
      "228/228 [==============================] - 87s 383ms/step - loss: 0.7820\n",
      "####################\n",
      "Temperature: 0.2\n",
      "####################\n",
      "use to the @WhiteHouse to the great state of the United States for the people of the United States has an incredible more than the Fake News Media coverage of the U.S. Women's and more than any other countries that we never said the next was a great day for the FBI and the Fake News Media coverage o\n",
      "\n",
      "re now a star  I have a great relationship with the Democrats are now all over the most consequences to the most consequences to the countries that was a great relationship with the Democrats are no longer than ever anticipated that the Fake News Media continues to the countries to be a great day fo\n",
      "\n",
      " than they are good news to the campaign and the  ....This will be a great job are working very hard to make a deal on the most confidence in the U.S. Women's for the U.S. Women's for the fact that the Fake News Media coverage of the U.S. in the United States has a  The @WhiteHouse to the first time\n",
      "\n",
      "####################\n",
      "Temperature: 0.5\n",
      "####################\n",
      "@nytimes, who make experts are with the Florida spending in the United States to the great state of the Great State of the United States has recently asked by the Democrats are so many successful tax cuts and the Democrats from the story that the never been unfair treated in the FBI and what will be\n",
      "\n",
      "e U.S. Women's to all with anonymous sources there was No Collusion what a country in the backgotial decision that has now that the Democrats are really decades. While the Democrats are now actually  The Democrats revive a GREAT FAIRAT on @foxandfriends  Foom Memorial Responders, the Democrats (and \n",
      "\n",
      "nst the  Will be the morning. Our great Military oversau because of the FBI and others are making a great support! As I dont talk and corruption, on the most experts the tax cut because the Democrats want to get Tiger to Dinesh Leadership with the Trump Campaign and the Fake News Media and the Unite\n",
      "\n",
      "####################\n",
      "Temperature: 1.0\n",
      "####################\n",
      "wall, 16 yet there already stoigh in NoKo - No controlling on Clinton and the Democrats in the @WhiteHouse!  \"Toky to Republican landing lawmabelanc  Troy to the Russians started the thoughts and p  What Have mult us  Join me will say that Tax Cuts. Also want to way, who were has too cover including\n",
      "\n",
      "ed 172,000 for reasor (who mosted jobs at next Nets, then was trialing and dishonest garity has adven  ...have someone or goin PMILLION today, Japan and say! Our horrifying, with America is a make our incredible book from soybeans necess the Border and Fed. The face that I promised, there has never \n",
      "\n",
      "Great over concerns meaning h  If we get Fake Plesier of Mrudetal was passing the biar, of families what I proudly continue BACK  We are parifit at election is raisi, our Nation Schuete  Join me will be backed because that I had i  Lisa Page its almost presents are amaling and there are now, we lost\n",
      "\n",
      "Epoch 17/20\n",
      "228/228 [==============================] - 88s 385ms/step - loss: 0.7370\n",
      "Epoch 18/20\n",
      "228/228 [==============================] - 87s 382ms/step - loss: 0.6959\n",
      "Epoch 19/20\n",
      "228/228 [==============================] - 87s 383ms/step - loss: 0.6583\n",
      "Epoch 20/20\n",
      "228/228 [==============================] - 88s 384ms/step - loss: 0.6263\n",
      "####################\n",
      "Temperature: 0.2\n",
      "####################\n",
      " coverage of the United States Supreme Court Justice and FBI have been many would be a great day for the FBI and the Fake News Media refuses to the families of the United States Supreme Court Justice and FBI has been a great supporter and supports the Fake News Media coverage of the United States ha\n",
      "\n",
      "ut out the most starting that the Fake News Media coverage of the U.S. and the  Thank you to @RandPaul for the first time in the United States Supreme Court Justice, for the Senate for a really great reporting of the U.S. and the people of the United States has been a great supporter and workers hav\n",
      "\n",
      "tates has an information on the Fake News Media state  The Fake News Media had a great job for the big Counter and to the White House Councel Don McGahn and more), i  We must protect the fact that the Fake News Media coverage of the U.S. and the Fake News Media refuses to the White House Councel Don\n",
      "\n",
      "####################\n",
      "Temperature: 0.5\n",
      "####################\n",
      "AbeShinzo of Japan and myself will be a great people who ran listed by the Fake News Media to come us at the most consequential pushes a big win is with President Putin of Michigan. There is no longer and being people who remember the single reporting. As  The record higher than than any endors  It \n",
      "\n",
      " The @USNavy is weak on Crime, the Room And First Lady, Melania, for the #Vet School on the terrible  Where are the deal of the United States has been opened. I have develoched Crooked Hillary Clinton and the highest longer want to stand and fighter, I have never had the leaker at the appointment of\n",
      "\n",
      " and the FBI was fired of South Carolina, I had a tremendous controllence of the Senate for Congress. He are deeply its longer than it has never been spect the  As a candidate, America is doing a fantastic job of the U.S., CNNS wants the life our great country. Americans have to see the great state \n",
      "\n",
      "####################\n",
      "Temperature: 1.0\n",
      "####################\n",
      "eture our slaft City Debt riding into NaxNoman. Kim Pennsylvany)! Problegiate North Korea. President XI JONG UN &amp; Russia has an economic we should have a tremendous compared. Westimants and trade wounded he completed to start anything them to discussion: Heal: Asia Republican Senators and the FB\n",
      "\n",
      "ite House with the Republican Party, before milliontantian 500,000 perg Great American workers would be doing that see the potential years, h  The Presidents to the White House Court Gavaro Law Hoce! #MAGA  Happy Birthday to the economy study so  Big legal into stell about so much immigrants many ot\n",
      "\n",
      "e has tile to start the 13 Angry Democrats for both for our elected by the  Thank you for the Intide  While you daught. @foxandfriends  Wow, Verylaniums standing red Trade partfus, accident is cause there great support! At lower Omaros,  Thank you to March Leegon, The wo  Happy #12 million &amp; the\n",
      "\n"
     ]
    }
   ],
   "source": [
    "model_name = 'trumptweets'\n",
    "textgen = textgenrnn(name=model_name)\n",
    "\n",
    "train_function = textgen.train_from_file if train_cfg['line_delimited'] else textgen.train_from_largetext_file\n",
    "\n",
    "train_function(\n",
    "    file_path=latest_file,\n",
    "    new_model=True,\n",
    "    num_epochs=train_cfg['num_epochs'],\n",
    "    gen_epochs=train_cfg['gen_epochs'],\n",
    "    batch_size=train_cfg['batch_size'],\n",
    "    train_size=train_cfg['train_size'],\n",
    "    dropout=train_cfg['dropout'],\n",
    "    max_gen_length=train_cfg['max_gen_length'],\n",
    "    validation=train_cfg['validation'],\n",
    "    is_csv=train_cfg['is_csv'],\n",
    "    rnn_layers=model_cfg['rnn_layers'],\n",
    "    rnn_size=model_cfg['rnn_size'],\n",
    "    rnn_bidirectional=model_cfg['rnn_bidirectional'],\n",
    "    max_length=model_cfg['max_length'],\n",
    "    dim_embeddings=model_cfg['dim_embeddings'],\n",
    "    word_level=model_cfg['word_level'])"
   ]
  },
  {
   "cell_type": "code",
   "execution_count": 0,
   "metadata": {
    "colab": {},
    "colab_type": "code",
    "collapsed": true,
    "id": "4RNY6RBI9LmL"
   },
   "outputs": [],
   "source": [
    "files.download('{}_weights.hdf5'.format(model_name))\n",
    "files.download('{}_vocab.json'.format(model_name))\n",
    "files.download('{}_config.json'.format(model_name))"
   ]
  }
 ],
 "metadata": {
  "accelerator": "GPU",
  "colab": {
   "collapsed_sections": [],
   "name": "Interactive_textgenrnn_Demo_w_GPU.ipynb",
   "provenance": [],
   "version": "0.3.2"
  },
  "kernelspec": {
   "display_name": "Python 3",
   "language": "python",
   "name": "python3"
  },
  "language_info": {
   "codemirror_mode": {
    "name": "ipython",
    "version": 3
   },
   "file_extension": ".py",
   "mimetype": "text/x-python",
   "name": "python",
   "nbconvert_exporter": "python",
   "pygments_lexer": "ipython3",
   "version": "3.6.3"
  },
  "latex_envs": {
   "LaTeX_envs_menu_present": true,
   "autoclose": false,
   "autocomplete": true,
   "bibliofile": "biblio.bib",
   "cite_by": "apalike",
   "current_citInitial": 1,
   "eqLabelWithNumbers": true,
   "eqNumInitial": 1,
   "hotkeys": {
    "equation": "Ctrl-E",
    "itemize": "Ctrl-I"
   },
   "labels_anchors": false,
   "latex_user_defs": false,
   "report_style_numbering": false,
   "user_envs_cfg": false
  },
  "nbTranslate": {
   "displayLangs": [
    "*"
   ],
   "hotkey": "alt-t",
   "langInMainMenu": true,
   "sourceLang": "en",
   "targetLang": "fr",
   "useGoogleTranslate": true
  },
  "varInspector": {
   "cols": {
    "lenName": 16,
    "lenType": 16,
    "lenVar": 40
   },
   "kernels_config": {
    "python": {
     "delete_cmd_postfix": "",
     "delete_cmd_prefix": "del ",
     "library": "var_list.py",
     "varRefreshCmd": "print(var_dic_list())"
    },
    "r": {
     "delete_cmd_postfix": ") ",
     "delete_cmd_prefix": "rm(",
     "library": "var_list.r",
     "varRefreshCmd": "cat(var_dic_list()) "
    }
   },
   "types_to_exclude": [
    "module",
    "function",
    "builtin_function_or_method",
    "instance",
    "_Feature"
   ],
   "window_display": false
  }
 },
 "nbformat": 4,
 "nbformat_minor": 1
}
