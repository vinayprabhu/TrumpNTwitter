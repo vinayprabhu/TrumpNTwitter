{
 "cells": [
  {
   "cell_type": "code",
   "execution_count": 1,
   "metadata": {},
   "outputs": [],
   "source": [
    "df_tweets=pd.read_csv('df_tweets.csv',encoding = \"ISO-8859-1\", engine='python')\n",
    "list_tweets=[]\n",
    "for i in range(df_tweets.text.shape[0]):\n",
    "    if('RT' in df_tweets.text[i]):\n",
    "        pass\n",
    "    else:\n",
    "        list_tweets.append(' '+df_tweets.text[i])\n"
   ]
  },
  {
   "cell_type": "markdown",
   "metadata": {},
   "source": [
    "# What ratio of these are RTs?"
   ]
  },
  {
   "cell_type": "code",
   "execution_count": 2,
   "metadata": {},
   "outputs": [
    {
     "data": {
      "text/plain": [
       "0.868331791551033"
      ]
     },
     "execution_count": 2,
     "metadata": {},
     "output_type": "execute_result"
    }
   ],
   "source": [
    "len(list_tweets)/df_tweets.shape[0]"
   ]
  },
  {
   "cell_type": "code",
   "execution_count": 3,
   "metadata": {},
   "outputs": [],
   "source": [
    "sentence_raw=''.join(list_tweets)"
   ]
  },
  {
   "cell_type": "markdown",
   "metadata": {},
   "source": [
    "# Strip all the URL links"
   ]
  },
  {
   "cell_type": "code",
   "execution_count": 4,
   "metadata": {
    "scrolled": false
   },
   "outputs": [
    {
     "data": {
      "text/plain": [
       "' Thank you to NBC for the correction!  Thank you!  I will be interviewed on \\x9360 Minutes\\x94 tonight at 7:00 P.M., after NFL game. Enjoy! Princess Eugenie of York was a truly beautiful bride yesterday. She has been through so much, and has come out a total winner! NBC News has totally and purposely changed the point and  meaning of my story about General Robert E Lee and Genera\\x85  Congratulations to Tucker Carlson on the great success of his book, \\x93Ship of Fools.\\x94 It just went to NUMBER ONE! Big day! Pastor Andrew Brunson, who could have spent 35 years in a Turkish prison, was returned safely home to his\\x85  Thank you Kentucky! #MAGA??\\n  On my way to Richmond, Kentucky for a MAKE AMERICA GREAT AGAIN rally at 7:00pmE. The crowds are once again, massive\\x85  WELCOME HOME PASTOR ANDREW BRUNSON!   Heading to the Great State of Kentucky - Big Rally for Congressman Andy Barr - Fantastic guy, need his vote for MAG\\x85  Highly respected Congressman Keith Rothfus (R) of Pennsylvania is in the fight of his life because the Dems changed\\x85  \\x93From a Turkish prison to the White House in 24 hours.\\x94  Kristin Fisher of @FoxNews   Very cool! There was NO DEAL made with Turkey for the release and return of Pastor Andrew Brunson. I don\\x92t make deals for host\\x85  Pastor Andrew Brunson, released by Turkey, will be with me in the Oval Office at 2:30 P.M. (this afternoon). It wil\\x85  Happy 243rd Birthday to our GREAT @USNavy! #243NavyBday  Beautiful MAKE AMERICA GREAT AGAIN rally in Lebanon, Ohio. Thank you! #ICYMI, watch here:   The GREAT football (and lacrosse) player, Jim Brown outside the West Wing of the @WhiteHouse. He is also a tremendo\\x85   Happy #NationalFarmersDay! With the recent #USMCA our GREAT FARMERS will do better than ever before!!  Don\\x92t miss our GREAT @FLOTUS, Melania, on @ABC @ABC2020 tonight at 10pmE. Enjoy! People have no idea how hard Hurricane Michael has hit the great state of Georgia. I will be visiting both Florida\\x85  PROMISES MADE, PROMISES KEPT!  REGISTER TO VOTE!   PASTOR BRUNSON JUST RELEASED. WILL BE HOME SOON! My thoughts and prayers are with Pastor Brunson, and we hope to have him safely back home soon! So nice, everyone wants Ivanka Trump to be the new United Nations Ambassador. She would be incredible, but I can al\\x85  Working very hard on Pastor Brunson!    Florida Highway Patrol Troopers are all en route to the Panhandle, from all across the state of Florida - to help t\\x85  Thank you to @FEMA and all First Responders! #HurricaneMichael  Thank you Jacksonville Sheriff\\x92s Office! #HurricaneMichael  Massive overflow crowd tonight in Erie, Pennsylvania. THANK YOU to everyone who came out and joined us. Together, w\\x85  Thank you Erie, Pennsylvania! Remember to get out and VOTE! #MAGA??  Couldn\\x92t let these great people down. They have been lined up since last night - see you soon Pennsylvania!  Departing the @WhiteHouse for Erie, Pennsylvania. I cannot disappoint the thousands of people that are there - and\\x85  We are with you Florida! \\n  Despite so many positive events and victories, Media Reseach Center reports that 92% of stories on Donald Trump are\\x85  Walker Stapleton is running as the highly respected Republican Candidate for Governor of the Great State of Colorad\\x85  THANK YOU IOWA &amp; NEBRASKA! VOTE, VOTE, VOTE!    Beautiful evening in Iowa. GOD BLESS THE U.S.A.! #MAGA??  .@FLGovScott has been relentless in securing the funding to fix the algae problem from Lake Okeechobee - we will so\\x85  \\x93President Donald J. Trump Approves Florida Emergency Declaration\\x94  REGISTER TO VOTE!   FLORIDA - It is imperative that you heed the directions of your State and Local Officials. Please be prepared, be c\\x85  ...Looks to be a Cat. 3 which is even more intense than Florence. Good news is, the folks in the Pan Handle can tak\\x85  Hurricane on its way to the Florida Pan Handle with major elements arriving tomorrow. Could also hit, in later stag\\x85  Big announcement with my friend Ambassador Nikki Haley in the Oval Office at 10:30am. Will be going to Iowa tonight for Rally, and more! The Farmers (and all) are very happy with USMCA! Great evening last night at the White House honoring Justice Kavanaugh and family. Our country is very proud of them! The paid D.C. protesters are now ready to REALLY protest because they haven\\x92t gotten their checks - in other words,\\x85    Great to see @AGPamBondi launch a cutting-edge statewide school safety APP in Florida today - named by Parkland Sur\\x85  Every day, our police officers race into darkened allies, deserted streets, &amp; onto the doorsteps of the most harden\\x85  We thank you. We salute you. We honor you. And we promise you: we will ALWAYS have your BACK \\x96 now and FOREVER!\\x85  America\\x92s police officers have earned the everlasting gratitude of our Nation. In moments of danger &amp; despair you a\\x85  It was my great honor to address the International Association of Chiefs of Police Annual Convention in Orlando, Fl\\x85  Departing Washington, D.C. for the International Association of Chiefs of Police Annual Convention in Orla'"
      ]
     },
     "execution_count": 4,
     "metadata": {},
     "output_type": "execute_result"
    }
   ],
   "source": [
    "import re\n",
    "URLless_string = re.sub(r'\\w+:\\/{2}[\\d\\w-]+(\\.[\\d\\w-]+)*(?:(?:\\/[^\\s/]*))*', '', sentence_raw)\n",
    "URLless_string[0:5000]"
   ]
  },
  {
   "cell_type": "markdown",
   "metadata": {},
   "source": [
    "# You see all of these '\\x94\\x85  \\x93' special characters?\n",
    "## Now deal the UTF-8 encoding issue and strip the end-of-line '\\n' characters"
   ]
  },
  {
   "cell_type": "code",
   "execution_count": 5,
   "metadata": {},
   "outputs": [],
   "source": [
    "# Source: https://stackoverflow.com/questions/6609895/efficiently-replace-bad-characters\n",
    "def restore_windows_1252_characters(s):\n",
    "    \"\"\"Replace C1 control characters in the Unicode string s by the\n",
    "    characters at the corresponding code points in Windows-1252,\n",
    "    where possible.\n",
    "\n",
    "    \"\"\"\n",
    "    import re\n",
    "    def to_windows_1252(match):\n",
    "        try:\n",
    "            return bytes([ord(match.group(0))]).decode('windows-1252')\n",
    "        except UnicodeDecodeError:\n",
    "            # No character at the corresponding code point: remove it.\n",
    "            return ''\n",
    "    return re.sub(r'[\\u0080-\\u0099]', to_windows_1252, s)"
   ]
  },
  {
   "cell_type": "code",
   "execution_count": 6,
   "metadata": {
    "scrolled": true
   },
   "outputs": [],
   "source": [
    "tweet_transcript_export=restore_windows_1252_characters(URLless_string).rstrip('\\r\\n')"
   ]
  },
  {
   "cell_type": "markdown",
   "metadata": {},
   "source": [
    "# Finally, write out the tweets in to a txt file:"
   ]
  },
  {
   "cell_type": "code",
   "execution_count": 7,
   "metadata": {
    "collapsed": true
   },
   "outputs": [],
   "source": [
    "text_file = open(\"trump_tweets.txt\", \"w\")\n",
    "text_file.write(tweet_transcript_export)\n",
    "text_file.close()"
   ]
  }
 ],
 "metadata": {
  "kernelspec": {
   "display_name": "Python 3",
   "language": "python",
   "name": "python3"
  },
  "language_info": {
   "codemirror_mode": {
    "name": "ipython",
    "version": 3
   },
   "file_extension": ".py",
   "mimetype": "text/x-python",
   "name": "python",
   "nbconvert_exporter": "python",
   "pygments_lexer": "ipython3",
   "version": "3.6.3"
  },
  "latex_envs": {
   "LaTeX_envs_menu_present": true,
   "autoclose": false,
   "autocomplete": true,
   "bibliofile": "biblio.bib",
   "cite_by": "apalike",
   "current_citInitial": 1,
   "eqLabelWithNumbers": true,
   "eqNumInitial": 1,
   "hotkeys": {
    "equation": "Ctrl-E",
    "itemize": "Ctrl-I"
   },
   "labels_anchors": false,
   "latex_user_defs": false,
   "report_style_numbering": false,
   "user_envs_cfg": false
  },
  "nbTranslate": {
   "displayLangs": [
    "*"
   ],
   "hotkey": "alt-t",
   "langInMainMenu": true,
   "sourceLang": "en",
   "targetLang": "fr",
   "useGoogleTranslate": true
  },
  "varInspector": {
   "cols": {
    "lenName": 16,
    "lenType": 16,
    "lenVar": 40
   },
   "kernels_config": {
    "python": {
     "delete_cmd_postfix": "",
     "delete_cmd_prefix": "del ",
     "library": "var_list.py",
     "varRefreshCmd": "print(var_dic_list())"
    },
    "r": {
     "delete_cmd_postfix": ") ",
     "delete_cmd_prefix": "rm(",
     "library": "var_list.r",
     "varRefreshCmd": "cat(var_dic_list()) "
    }
   },
   "types_to_exclude": [
    "module",
    "function",
    "builtin_function_or_method",
    "instance",
    "_Feature"
   ],
   "window_display": false
  }
 },
 "nbformat": 4,
 "nbformat_minor": 2
}
