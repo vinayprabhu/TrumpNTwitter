{
 "cells": [
  {
   "cell_type": "markdown",
   "metadata": {},
   "source": [
    "# Temporality of POTUS' tweets:\n",
    "\n",
    "I am currently enrolled in this course at Stanford continuing studies school titled: _POL 35 — Journalism Under Siege? Truth and Trust in a Time of Turmoil_ (Course link: https://continuingstudies.stanford.edu/courses/liberal-arts-and-sciences/journalism-under-siege-truth-and-trust-in-a-time-of-turmoil/20181_POL-35) \n",
    "\n",
    "Week-2 of the course covered the topic \"Power to the People: Holding the Powerful Accountable\". During the second half of the class, two journalists Sally Buzbee (Executive Editor, The Associated Press) and  Daniel Dale (Correspondent, The Toronto Star) referred to some of the new challenges that have emerged during President-45's administration. They spoke of three aspects of the tweet-storm that emanated from the POTUS himself: _Velocity_, _Source_ and _Timing_\n",
    "\n",
    "By source, I mean the person and the device from which the tweets were literally typed.\n",
    "With regards to the temporal aspects, I was exposed to these interesting claims that a substantial chunk of the tweets were being tweeted in the wee hours of the morn and that this timing coincided with the TV show titled 'Fox and Friends'.\n",
    "\n",
    "Below, I study and quantify this claim in terms of numbers."
   ]
  },
  {
   "cell_type": "markdown",
   "metadata": {},
   "source": [
    "# Step uno: Install tweepy if you haven't:"
   ]
  },
  {
   "cell_type": "code",
   "execution_count": 1,
   "metadata": {
    "colab": {
     "base_uri": "https://localhost:8080/",
     "height": 358
    },
    "colab_type": "code",
    "id": "rLIxuEhon4Vx",
    "outputId": "8009eb93-dfe6-4f0a-906c-5855186da1b4"
   },
   "outputs": [
    {
     "name": "stdout",
     "output_type": "stream",
     "text": [
      "Requirement already satisfied: tweepy in c:\\toolkits.win\\anaconda3-4.4.0\\lib\\site-packages (3.6.0)\n",
      "Requirement already satisfied: PySocks>=1.5.7 in c:\\toolkits.win\\anaconda3-4.4.0\\lib\\site-packages (from tweepy) (1.6.7)\n",
      "Requirement already satisfied: requests-oauthlib>=0.7.0 in c:\\toolkits.win\\anaconda3-4.4.0\\lib\\site-packages (from tweepy) (1.0.0)\n",
      "Requirement already satisfied: requests>=2.11.1 in c:\\toolkits.win\\anaconda3-4.4.0\\lib\\site-packages (from tweepy) (2.18.4)\n",
      "Requirement already satisfied: six>=1.10.0 in c:\\toolkits.win\\anaconda3-4.4.0\\lib\\site-packages (from tweepy) (1.11.0)\n",
      "Requirement already satisfied: oauthlib>=0.6.2 in c:\\toolkits.win\\anaconda3-4.4.0\\lib\\site-packages (from requests-oauthlib>=0.7.0->tweepy) (2.1.0)\n",
      "Requirement already satisfied: idna<2.7,>=2.5 in c:\\toolkits.win\\anaconda3-4.4.0\\lib\\site-packages (from requests>=2.11.1->tweepy) (2.6)\n",
      "Requirement already satisfied: chardet<3.1.0,>=3.0.2 in c:\\toolkits.win\\anaconda3-4.4.0\\lib\\site-packages (from requests>=2.11.1->tweepy) (3.0.4)\n",
      "Requirement already satisfied: certifi>=2017.4.17 in c:\\toolkits.win\\anaconda3-4.4.0\\lib\\site-packages (from requests>=2.11.1->tweepy) (2018.1.18)\n",
      "Requirement already satisfied: urllib3<1.23,>=1.21.1 in c:\\toolkits.win\\anaconda3-4.4.0\\lib\\site-packages (from requests>=2.11.1->tweepy) (1.22)\n"
     ]
    }
   ],
   "source": [
    "!pip install tweepy"
   ]
  },
  {
   "cell_type": "code",
   "execution_count": 2,
   "metadata": {
    "colab": {},
    "colab_type": "code",
    "collapsed": true,
    "id": "tI8211fwoGBb"
   },
   "outputs": [],
   "source": [
    "# General:\n",
    "import tweepy           # To consume Twitter's API\n",
    "import pandas as pd     # To handle data\n",
    "import numpy as np      # For number computing\n",
    "from tqdm import tqdm\n",
    "# For plotting and visualization:\n",
    "from IPython.display import display\n",
    "import matplotlib.pyplot as plt\n",
    "import seaborn as sns\n",
    "%matplotlib inline"
   ]
  },
  {
   "cell_type": "markdown",
   "metadata": {},
   "source": [
    "# Authentication credentials for using the twitter API:"
   ]
  },
  {
   "cell_type": "code",
   "execution_count": 3,
   "metadata": {
    "colab": {},
    "colab_type": "code",
    "collapsed": true,
    "id": "t2UoBflkndKt"
   },
   "outputs": [],
   "source": [
    "from credentials import CONSUMER_KEY, CONSUMER_SECRET,ACCESS_TOKEN,ACCESS_SECRET "
   ]
  },
  {
   "cell_type": "markdown",
   "metadata": {},
   "source": [
    "# Actually tweet scraping:\n",
    "\n",
    "## Help source: https://gist.github.com/yanofsky/5436496\n",
    "\n",
    "_Note that Twitter only allows access to a users most recent 3240 tweets with this method_"
   ]
  },
  {
   "cell_type": "code",
   "execution_count": 4,
   "metadata": {
    "colab": {},
    "colab_type": "code",
    "collapsed": true,
    "id": "WZRtAfPzoRYc"
   },
   "outputs": [],
   "source": [
    "\n",
    "#authorize twitter, initialize tweepy\n",
    "auth = tweepy.OAuthHandler(CONSUMER_KEY, CONSUMER_SECRET)\n",
    "auth.set_access_token(ACCESS_TOKEN,ACCESS_SECRET)\n",
    "api = tweepy.API(auth)\n",
    "\n",
    "screen_name=\"realDonaldTrump\"\n",
    "\n",
    "#initialize a list to hold all the tweepy Tweets\n",
    "alltweets = []\t\n",
    "\n",
    "#make initial request for most recent tweets (200 is the maximum allowed count)\n",
    "new_tweets = api.user_timeline(screen_name = screen_name,count=200)\n",
    "\n"
   ]
  },
  {
   "cell_type": "markdown",
   "metadata": {},
   "source": [
    "Neat. Now. let's explore the object new_tweets object that is returned.\n",
    "\n",
    "```\n",
    "dir(new_tweets[0])\n",
    "\n",
    "['__class__',\n",
    " '__delattr__',\n",
    " '__dict__',\n",
    " '__dir__',\n",
    " '__doc__',\n",
    " '__eq__',\n",
    " '__format__',\n",
    " '__ge__',\n",
    " '__getattribute__',\n",
    " '__getstate__',\n",
    " '__gt__',\n",
    " '__hash__',\n",
    " '__init__',\n",
    " '__init_subclass__',\n",
    " '__le__',\n",
    " '__lt__',\n",
    " '__module__',\n",
    " '__ne__',\n",
    " '__new__',\n",
    " '__reduce__',\n",
    " '__reduce_ex__',\n",
    " '__repr__',\n",
    " '__setattr__',\n",
    " '__sizeof__',\n",
    " '__str__',\n",
    " '__subclasshook__',\n",
    " '__weakref__',\n",
    " '_api',\n",
    " '_json',\n",
    " 'author',\n",
    " 'contributors',\n",
    " 'coordinates',\n",
    " 'created_at',\n",
    " 'destroy',\n",
    " 'entities',\n",
    " 'favorite',\n",
    " 'favorite_count',\n",
    " 'favorited',\n",
    " 'geo',\n",
    " 'id',\n",
    " 'id_str',\n",
    " 'in_reply_to_screen_name',\n",
    " 'in_reply_to_status_id',\n",
    " 'in_reply_to_status_id_str',\n",
    " 'in_reply_to_user_id',\n",
    " 'in_reply_to_user_id_str',\n",
    " 'is_quote_status',\n",
    " 'lang',\n",
    " 'parse',\n",
    " 'parse_list',\n",
    " 'place',\n",
    " 'possibly_sensitive',\n",
    " 'quoted_status',\n",
    " 'quoted_status_id',\n",
    " 'quoted_status_id_str',\n",
    " 'retweet',\n",
    " 'retweet_count',\n",
    " 'retweeted',\n",
    " 'retweets',\n",
    " 'source',\n",
    " 'source_url',\n",
    " 'text',\n",
    " 'truncated',\n",
    " 'user']\n",
    " \n",
    " ```\n",
    " \n",
    " Should you feel goaded to explore further, here are the resources. I will revisit these in the forthcoming notebooks:\n",
    "\n",
    "Resource page:\n",
    "\n",
    "<img src=\"tweet_objects.png\",width=600,height=600>\n",
    "\n",
    "Links:\n",
    "\n",
    "https://developer.twitter.com/en/docs/tweets/data-dictionary/overview/tweet-object.html\n",
    "\n",
    "\n",
    "https://developer.twitter.com/en/docs/tweets/data-dictionary/overview/user-object.html\n",
    "\n"
   ]
  },
  {
   "cell_type": "markdown",
   "metadata": {
    "scrolled": false
   },
   "source": [
    "Note to self: Interesting attributes from the twitter API documentation.\n",
    "\n",
    "```\n",
    "list_components=[ 'coordinates',\n",
    " 'created_at',\n",
    " 'destroy',\n",
    " 'entities',\n",
    " 'favorite',\n",
    " 'favorite_count',\n",
    " 'favorited',\n",
    " 'geo',\n",
    " 'id',\n",
    " 'id_str',\n",
    " 'in_reply_to_screen_name',\n",
    " 'in_reply_to_status_id',\n",
    " 'in_reply_to_user_id',\n",
    " 'is_quote_status',\n",
    " 'lang',\n",
    " 'parse',\n",
    " 'parse_list',\n",
    " 'place',\n",
    " 'possibly_sensitive',\n",
    " 'retweet',\n",
    " 'retweet_count',\n",
    " 'retweeted',\n",
    " 'retweets',\n",
    " 'source',\n",
    " 'source_url',\n",
    " 'text',\n",
    " 'truncated',\n",
    " 'user']\n",
    "for comp in list_components:\n",
    "    \n",
    "    print('\\n ___________')\n",
    "    print(comp)\n",
    "    print(new_tweets[0].__getattribute__(comp))\n",
    "    \n",
    "```"
   ]
  },
  {
   "cell_type": "markdown",
   "metadata": {},
   "source": [
    "# Let's take a small detour to study the author field itself and save it as a dataframe:"
   ]
  },
  {
   "cell_type": "code",
   "execution_count": 5,
   "metadata": {
    "scrolled": false
   },
   "outputs": [
    {
     "data": {
      "text/html": [
       "<div>\n",
       "<style>\n",
       "    .dataframe thead tr:only-child th {\n",
       "        text-align: right;\n",
       "    }\n",
       "\n",
       "    .dataframe thead th {\n",
       "        text-align: left;\n",
       "    }\n",
       "\n",
       "    .dataframe tbody tr th {\n",
       "        vertical-align: top;\n",
       "    }\n",
       "</style>\n",
       "<table border=\"1\" class=\"dataframe\">\n",
       "  <thead>\n",
       "    <tr style=\"text-align: right;\">\n",
       "      <th></th>\n",
       "      <th>field</th>\n",
       "      <th>Author_attribute</th>\n",
       "    </tr>\n",
       "  </thead>\n",
       "  <tbody>\n",
       "    <tr>\n",
       "      <th>0</th>\n",
       "      <td>contributors_enabled</td>\n",
       "      <td>False</td>\n",
       "    </tr>\n",
       "    <tr>\n",
       "      <th>1</th>\n",
       "      <td>created_at</td>\n",
       "      <td>2009-03-18 13:46:38</td>\n",
       "    </tr>\n",
       "    <tr>\n",
       "      <th>2</th>\n",
       "      <td>default_profile</td>\n",
       "      <td>False</td>\n",
       "    </tr>\n",
       "    <tr>\n",
       "      <th>3</th>\n",
       "      <td>default_profile_image</td>\n",
       "      <td>False</td>\n",
       "    </tr>\n",
       "    <tr>\n",
       "      <th>4</th>\n",
       "      <td>description</td>\n",
       "      <td>45th President of the United States of America🇺🇸</td>\n",
       "    </tr>\n",
       "    <tr>\n",
       "      <th>5</th>\n",
       "      <td>favourites_count</td>\n",
       "      <td>25</td>\n",
       "    </tr>\n",
       "    <tr>\n",
       "      <th>6</th>\n",
       "      <td>follow</td>\n",
       "      <td>&lt;bound method User.follow of User(_api=&lt;tweepy...</td>\n",
       "    </tr>\n",
       "    <tr>\n",
       "      <th>7</th>\n",
       "      <td>follow_request_sent</td>\n",
       "      <td>False</td>\n",
       "    </tr>\n",
       "    <tr>\n",
       "      <th>8</th>\n",
       "      <td>followers</td>\n",
       "      <td>&lt;bound method User.followers of User(_api=&lt;twe...</td>\n",
       "    </tr>\n",
       "    <tr>\n",
       "      <th>9</th>\n",
       "      <td>followers_count</td>\n",
       "      <td>55128105</td>\n",
       "    </tr>\n",
       "    <tr>\n",
       "      <th>10</th>\n",
       "      <td>followers_ids</td>\n",
       "      <td>&lt;bound method User.followers_ids of User(_api=...</td>\n",
       "    </tr>\n",
       "    <tr>\n",
       "      <th>11</th>\n",
       "      <td>following</td>\n",
       "      <td>False</td>\n",
       "    </tr>\n",
       "    <tr>\n",
       "      <th>12</th>\n",
       "      <td>friends</td>\n",
       "      <td>&lt;bound method User.friends of User(_api=&lt;tweep...</td>\n",
       "    </tr>\n",
       "    <tr>\n",
       "      <th>13</th>\n",
       "      <td>friends_count</td>\n",
       "      <td>47</td>\n",
       "    </tr>\n",
       "    <tr>\n",
       "      <th>14</th>\n",
       "      <td>geo_enabled</td>\n",
       "      <td>True</td>\n",
       "    </tr>\n",
       "    <tr>\n",
       "      <th>15</th>\n",
       "      <td>has_extended_profile</td>\n",
       "      <td>False</td>\n",
       "    </tr>\n",
       "    <tr>\n",
       "      <th>16</th>\n",
       "      <td>id</td>\n",
       "      <td>25073877</td>\n",
       "    </tr>\n",
       "    <tr>\n",
       "      <th>17</th>\n",
       "      <td>id_str</td>\n",
       "      <td>25073877</td>\n",
       "    </tr>\n",
       "    <tr>\n",
       "      <th>18</th>\n",
       "      <td>is_translation_enabled</td>\n",
       "      <td>True</td>\n",
       "    </tr>\n",
       "    <tr>\n",
       "      <th>19</th>\n",
       "      <td>is_translator</td>\n",
       "      <td>False</td>\n",
       "    </tr>\n",
       "    <tr>\n",
       "      <th>20</th>\n",
       "      <td>lang</td>\n",
       "      <td>en</td>\n",
       "    </tr>\n",
       "    <tr>\n",
       "      <th>21</th>\n",
       "      <td>listed_count</td>\n",
       "      <td>94784</td>\n",
       "    </tr>\n",
       "    <tr>\n",
       "      <th>22</th>\n",
       "      <td>lists</td>\n",
       "      <td>&lt;bound method User.lists of User(_api=&lt;tweepy....</td>\n",
       "    </tr>\n",
       "    <tr>\n",
       "      <th>23</th>\n",
       "      <td>lists_memberships</td>\n",
       "      <td>&lt;bound method User.lists_memberships of User(_...</td>\n",
       "    </tr>\n",
       "    <tr>\n",
       "      <th>24</th>\n",
       "      <td>lists_subscriptions</td>\n",
       "      <td>&lt;bound method User.lists_subscriptions of User...</td>\n",
       "    </tr>\n",
       "    <tr>\n",
       "      <th>25</th>\n",
       "      <td>location</td>\n",
       "      <td>Washington, DC</td>\n",
       "    </tr>\n",
       "    <tr>\n",
       "      <th>26</th>\n",
       "      <td>name</td>\n",
       "      <td>Donald J. Trump</td>\n",
       "    </tr>\n",
       "    <tr>\n",
       "      <th>27</th>\n",
       "      <td>notifications</td>\n",
       "      <td>False</td>\n",
       "    </tr>\n",
       "    <tr>\n",
       "      <th>28</th>\n",
       "      <td>parse</td>\n",
       "      <td>&lt;bound method User.parse of &lt;class 'tweepy.mod...</td>\n",
       "    </tr>\n",
       "    <tr>\n",
       "      <th>29</th>\n",
       "      <td>parse_list</td>\n",
       "      <td>&lt;bound method User.parse_list of &lt;class 'tweep...</td>\n",
       "    </tr>\n",
       "    <tr>\n",
       "      <th>30</th>\n",
       "      <td>profile_background_color</td>\n",
       "      <td>6D5C18</td>\n",
       "    </tr>\n",
       "    <tr>\n",
       "      <th>31</th>\n",
       "      <td>profile_background_image_url</td>\n",
       "      <td>http://abs.twimg.com/images/themes/theme1/bg.png</td>\n",
       "    </tr>\n",
       "    <tr>\n",
       "      <th>32</th>\n",
       "      <td>profile_background_image_url_https</td>\n",
       "      <td>https://abs.twimg.com/images/themes/theme1/bg.png</td>\n",
       "    </tr>\n",
       "    <tr>\n",
       "      <th>33</th>\n",
       "      <td>profile_background_tile</td>\n",
       "      <td>True</td>\n",
       "    </tr>\n",
       "    <tr>\n",
       "      <th>34</th>\n",
       "      <td>profile_banner_url</td>\n",
       "      <td>https://pbs.twimg.com/profile_banners/25073877...</td>\n",
       "    </tr>\n",
       "    <tr>\n",
       "      <th>35</th>\n",
       "      <td>profile_image_url</td>\n",
       "      <td>http://pbs.twimg.com/profile_images/8742761973...</td>\n",
       "    </tr>\n",
       "    <tr>\n",
       "      <th>36</th>\n",
       "      <td>profile_image_url_https</td>\n",
       "      <td>https://pbs.twimg.com/profile_images/874276197...</td>\n",
       "    </tr>\n",
       "    <tr>\n",
       "      <th>37</th>\n",
       "      <td>profile_link_color</td>\n",
       "      <td>1B95E0</td>\n",
       "    </tr>\n",
       "    <tr>\n",
       "      <th>38</th>\n",
       "      <td>profile_sidebar_border_color</td>\n",
       "      <td>BDDCAD</td>\n",
       "    </tr>\n",
       "    <tr>\n",
       "      <th>39</th>\n",
       "      <td>profile_sidebar_fill_color</td>\n",
       "      <td>C5CEC0</td>\n",
       "    </tr>\n",
       "    <tr>\n",
       "      <th>40</th>\n",
       "      <td>profile_text_color</td>\n",
       "      <td>333333</td>\n",
       "    </tr>\n",
       "    <tr>\n",
       "      <th>41</th>\n",
       "      <td>profile_use_background_image</td>\n",
       "      <td>True</td>\n",
       "    </tr>\n",
       "    <tr>\n",
       "      <th>42</th>\n",
       "      <td>protected</td>\n",
       "      <td>False</td>\n",
       "    </tr>\n",
       "    <tr>\n",
       "      <th>43</th>\n",
       "      <td>screen_name</td>\n",
       "      <td>realDonaldTrump</td>\n",
       "    </tr>\n",
       "    <tr>\n",
       "      <th>44</th>\n",
       "      <td>statuses_count</td>\n",
       "      <td>39274</td>\n",
       "    </tr>\n",
       "    <tr>\n",
       "      <th>45</th>\n",
       "      <td>time_zone</td>\n",
       "      <td>None</td>\n",
       "    </tr>\n",
       "    <tr>\n",
       "      <th>46</th>\n",
       "      <td>timeline</td>\n",
       "      <td>&lt;bound method User.timeline of User(_api=&lt;twee...</td>\n",
       "    </tr>\n",
       "    <tr>\n",
       "      <th>47</th>\n",
       "      <td>translator_type</td>\n",
       "      <td>regular</td>\n",
       "    </tr>\n",
       "    <tr>\n",
       "      <th>48</th>\n",
       "      <td>unfollow</td>\n",
       "      <td>&lt;bound method User.unfollow of User(_api=&lt;twee...</td>\n",
       "    </tr>\n",
       "    <tr>\n",
       "      <th>49</th>\n",
       "      <td>url</td>\n",
       "      <td>https://t.co/OMxB0x7xC5</td>\n",
       "    </tr>\n",
       "    <tr>\n",
       "      <th>50</th>\n",
       "      <td>utc_offset</td>\n",
       "      <td>None</td>\n",
       "    </tr>\n",
       "    <tr>\n",
       "      <th>51</th>\n",
       "      <td>verified</td>\n",
       "      <td>True</td>\n",
       "    </tr>\n",
       "  </tbody>\n",
       "</table>\n",
       "</div>"
      ],
      "text/plain": [
       "                                 field  \\\n",
       "0                 contributors_enabled   \n",
       "1                           created_at   \n",
       "2                      default_profile   \n",
       "3                default_profile_image   \n",
       "4                          description   \n",
       "5                     favourites_count   \n",
       "6                               follow   \n",
       "7                  follow_request_sent   \n",
       "8                            followers   \n",
       "9                      followers_count   \n",
       "10                       followers_ids   \n",
       "11                           following   \n",
       "12                             friends   \n",
       "13                       friends_count   \n",
       "14                         geo_enabled   \n",
       "15                has_extended_profile   \n",
       "16                                  id   \n",
       "17                              id_str   \n",
       "18              is_translation_enabled   \n",
       "19                       is_translator   \n",
       "20                                lang   \n",
       "21                        listed_count   \n",
       "22                               lists   \n",
       "23                   lists_memberships   \n",
       "24                 lists_subscriptions   \n",
       "25                            location   \n",
       "26                                name   \n",
       "27                       notifications   \n",
       "28                               parse   \n",
       "29                          parse_list   \n",
       "30            profile_background_color   \n",
       "31        profile_background_image_url   \n",
       "32  profile_background_image_url_https   \n",
       "33             profile_background_tile   \n",
       "34                  profile_banner_url   \n",
       "35                   profile_image_url   \n",
       "36             profile_image_url_https   \n",
       "37                  profile_link_color   \n",
       "38        profile_sidebar_border_color   \n",
       "39          profile_sidebar_fill_color   \n",
       "40                  profile_text_color   \n",
       "41        profile_use_background_image   \n",
       "42                           protected   \n",
       "43                         screen_name   \n",
       "44                      statuses_count   \n",
       "45                           time_zone   \n",
       "46                            timeline   \n",
       "47                     translator_type   \n",
       "48                            unfollow   \n",
       "49                                 url   \n",
       "50                          utc_offset   \n",
       "51                            verified   \n",
       "\n",
       "                                     Author_attribute  \n",
       "0                                               False  \n",
       "1                                 2009-03-18 13:46:38  \n",
       "2                                               False  \n",
       "3                                               False  \n",
       "4    45th President of the United States of America🇺🇸  \n",
       "5                                                  25  \n",
       "6   <bound method User.follow of User(_api=<tweepy...  \n",
       "7                                               False  \n",
       "8   <bound method User.followers of User(_api=<twe...  \n",
       "9                                            55128105  \n",
       "10  <bound method User.followers_ids of User(_api=...  \n",
       "11                                              False  \n",
       "12  <bound method User.friends of User(_api=<tweep...  \n",
       "13                                                 47  \n",
       "14                                               True  \n",
       "15                                              False  \n",
       "16                                           25073877  \n",
       "17                                           25073877  \n",
       "18                                               True  \n",
       "19                                              False  \n",
       "20                                                 en  \n",
       "21                                              94784  \n",
       "22  <bound method User.lists of User(_api=<tweepy....  \n",
       "23  <bound method User.lists_memberships of User(_...  \n",
       "24  <bound method User.lists_subscriptions of User...  \n",
       "25                                     Washington, DC  \n",
       "26                                    Donald J. Trump  \n",
       "27                                              False  \n",
       "28  <bound method User.parse of <class 'tweepy.mod...  \n",
       "29  <bound method User.parse_list of <class 'tweep...  \n",
       "30                                             6D5C18  \n",
       "31   http://abs.twimg.com/images/themes/theme1/bg.png  \n",
       "32  https://abs.twimg.com/images/themes/theme1/bg.png  \n",
       "33                                               True  \n",
       "34  https://pbs.twimg.com/profile_banners/25073877...  \n",
       "35  http://pbs.twimg.com/profile_images/8742761973...  \n",
       "36  https://pbs.twimg.com/profile_images/874276197...  \n",
       "37                                             1B95E0  \n",
       "38                                             BDDCAD  \n",
       "39                                             C5CEC0  \n",
       "40                                             333333  \n",
       "41                                               True  \n",
       "42                                              False  \n",
       "43                                    realDonaldTrump  \n",
       "44                                              39274  \n",
       "45                                               None  \n",
       "46  <bound method User.timeline of User(_api=<twee...  \n",
       "47                                            regular  \n",
       "48  <bound method User.unfollow of User(_api=<twee...  \n",
       "49                            https://t.co/OMxB0x7xC5  \n",
       "50                                               None  \n",
       "51                                               True  "
      ]
     },
     "execution_count": 5,
     "metadata": {},
     "output_type": "execute_result"
    }
   ],
   "source": [
    "author_attrib_list=dir(new_tweets[0].author)\n",
    "df_useful_attribs=pd.DataFrame(columns=['field','Author_attribute'])\n",
    "ind=0\n",
    "for attrib in author_attrib_list:\n",
    "    \n",
    "    if((attrib[0]!='_')&(attrib!='entities')):\n",
    "        df_useful_attribs.loc[ind,'field']=attrib\n",
    "        df_useful_attribs.loc[ind,'Author_attribute']=new_tweets[0].author.__getattribute__(attrib)\n",
    "        ind+=1\n",
    "df_useful_attribs.to_csv('df_aattribs.csv',index=False)\n",
    "df_useful_attribs"
   ]
  },
  {
   "cell_type": "markdown",
   "metadata": {},
   "source": [
    "# Neat! Now, let's resume and mined the 3200+ most recent tweets:"
   ]
  },
  {
   "cell_type": "code",
   "execution_count": 6,
   "metadata": {
    "colab": {},
    "colab_type": "code",
    "id": "AeRIyodfoszl"
   },
   "outputs": [
    {
     "name": "stdout",
     "output_type": "stream",
     "text": [
      "getting tweets before 1044269053274193919\n",
      "...400 tweets downloaded so far\n",
      "getting tweets before 1039292858715578373\n",
      "...600 tweets downloaded so far\n",
      "getting tweets before 1033500723709992959\n",
      "...800 tweets downloaded so far\n",
      "getting tweets before 1027200569096765440\n",
      "...1000 tweets downloaded so far\n",
      "getting tweets before 1021711954589696000\n",
      "...1200 tweets downloaded so far\n",
      "getting tweets before 1014146835135516671\n",
      "...1400 tweets downloaded so far\n",
      "getting tweets before 1008357782410711040\n",
      "...1600 tweets downloaded so far\n",
      "getting tweets before 1002027245131661311\n",
      "...1800 tweets downloaded so far\n",
      "getting tweets before 993475610377932800\n",
      "...2000 tweets downloaded so far\n",
      "getting tweets before 984631073865953279\n",
      "...2200 tweets downloaded so far\n",
      "getting tweets before 972271520847466497\n",
      "...2400 tweets downloaded so far\n",
      "getting tweets before 960906105982463999\n",
      "...2600 tweets downloaded so far\n",
      "getting tweets before 949066181381632000\n",
      "...2800 tweets downloaded so far\n",
      "getting tweets before 937309279257792511\n",
      "...2997 tweets downloaded so far\n",
      "getting tweets before 928074747316928512\n",
      "...3196 tweets downloaded so far\n",
      "getting tweets before 920794597265088511\n",
      "...3243 tweets downloaded so far\n",
      "getting tweets before 919009334016856064\n",
      "...3243 tweets downloaded so far\n"
     ]
    }
   ],
   "source": [
    "#save most recent tweets\n",
    "alltweets.extend(new_tweets)\n",
    "\n",
    "#save the id of the oldest tweet less one\n",
    "oldest = alltweets[-1].id - 1\n",
    "\n",
    "#keep grabbing tweets until there are no tweets left to grab\n",
    "while len(new_tweets) > 0:\n",
    "    print(\"getting tweets before %s\" % (oldest))\n",
    "\n",
    "    #all subsiquent requests use the max_id param to prevent duplicates\n",
    "    new_tweets = api.user_timeline(screen_name = screen_name,count=200,max_id=oldest)\n",
    "\n",
    "    #save most recent tweets\n",
    "    alltweets.extend(new_tweets)\n",
    "\n",
    "    #update the id of the oldest tweet less one\n",
    "    oldest = alltweets[-1].id - 1\n",
    "\n",
    "    print(\"...%s tweets downloaded so far\" % (len(alltweets)))\n",
    "\n",
    "# #transform the tweepy tweets into a 2D array that will populate the csv\t\n",
    "# outtweets = [[tweet.id_str, tweet.created_at, tweet.text.encode(\"utf-8\")] for tweet in alltweets]\n",
    "\n",
    "# #write the csv\t\n",
    "# with open('%s_tweets.csv' % screen_name, 'wb') as f:\n",
    "#     writer = csv.writer(f)\n",
    "#     writer.writerow([\"id\",\"created_at\",\"text\"])\n",
    "#     writer.writerows(outtweets)\n",
    "\n",
    "# pass"
   ]
  },
  {
   "cell_type": "code",
   "execution_count": 7,
   "metadata": {
    "colab": {},
    "colab_type": "code",
    "id": "NBo3v1MjpVZt"
   },
   "outputs": [
    {
     "data": {
      "text/plain": [
       "3243"
      ]
     },
     "execution_count": 7,
     "metadata": {},
     "output_type": "execute_result"
    }
   ],
   "source": [
    "n_tweets=len(alltweets)\n",
    "n_tweets"
   ]
  },
  {
   "cell_type": "markdown",
   "metadata": {},
   "source": [
    "# I have hand-picked some of the useful tweet attributes that I deem are worthy of analysis besides the timestamps that form the original object of study:"
   ]
  },
  {
   "cell_type": "code",
   "execution_count": 8,
   "metadata": {},
   "outputs": [],
   "source": [
    "useful_cols=['coordinates',\n",
    " 'created_at',\n",
    " 'favorite_count',\n",
    " 'favorited',\n",
    " 'geo',\n",
    " 'id',\n",
    " 'in_reply_to_screen_name',\n",
    " 'in_reply_to_status_id',\n",
    " 'is_quote_status',\n",
    " 'lang',\n",
    " 'place',\n",
    " 'possibly_sensitive',\n",
    " 'retweet_count',\n",
    " 'retweeted',\n",
    " 'source',\n",
    " 'source_url',\n",
    " 'text',\n",
    " 'truncated']\n",
    "df_tweets=pd.DataFrame(columns=useful_cols)\n"
   ]
  },
  {
   "cell_type": "code",
   "execution_count": 9,
   "metadata": {},
   "outputs": [
    {
     "name": "stderr",
     "output_type": "stream",
     "text": [
      "100%|██████████| 3243/3243 [00:22<00:00, 144.90it/s]\n"
     ]
    }
   ],
   "source": [
    "for i in tqdm(range(n_tweets)):\n",
    "    for col in useful_cols:\n",
    "        try:\n",
    "            df_tweets.loc[i,col]=alltweets[i].__getattribute__(col)\n",
    "        except:\n",
    "            df_tweets.loc[i,col]='Unavailable'"
   ]
  },
  {
   "cell_type": "code",
   "execution_count": 11,
   "metadata": {},
   "outputs": [],
   "source": [
    "df_tweets.to_csv('df_tweets.csv',index=False)"
   ]
  },
  {
   "cell_type": "code",
   "execution_count": 12,
   "metadata": {},
   "outputs": [
    {
     "data": {
      "text/html": [
       "<div>\n",
       "<style>\n",
       "    .dataframe thead tr:only-child th {\n",
       "        text-align: right;\n",
       "    }\n",
       "\n",
       "    .dataframe thead th {\n",
       "        text-align: left;\n",
       "    }\n",
       "\n",
       "    .dataframe tbody tr th {\n",
       "        vertical-align: top;\n",
       "    }\n",
       "</style>\n",
       "<table border=\"1\" class=\"dataframe\">\n",
       "  <thead>\n",
       "    <tr style=\"text-align: right;\">\n",
       "      <th></th>\n",
       "      <th>coordinates</th>\n",
       "      <th>created_at</th>\n",
       "      <th>favorite_count</th>\n",
       "      <th>favorited</th>\n",
       "      <th>geo</th>\n",
       "      <th>id</th>\n",
       "      <th>in_reply_to_screen_name</th>\n",
       "      <th>in_reply_to_status_id</th>\n",
       "      <th>is_quote_status</th>\n",
       "      <th>lang</th>\n",
       "      <th>place</th>\n",
       "      <th>possibly_sensitive</th>\n",
       "      <th>retweet_count</th>\n",
       "      <th>retweeted</th>\n",
       "      <th>source</th>\n",
       "      <th>source_url</th>\n",
       "      <th>text</th>\n",
       "      <th>truncated</th>\n",
       "    </tr>\n",
       "  </thead>\n",
       "  <tbody>\n",
       "    <tr>\n",
       "      <th>0</th>\n",
       "      <td>None</td>\n",
       "      <td>2018-10-14 22:44:59</td>\n",
       "      <td>0</td>\n",
       "      <td>False</td>\n",
       "      <td>None</td>\n",
       "      <td>1051604811530072066</td>\n",
       "      <td>None</td>\n",
       "      <td>None</td>\n",
       "      <td>False</td>\n",
       "      <td>en</td>\n",
       "      <td>None</td>\n",
       "      <td>Unavailable</td>\n",
       "      <td>9731</td>\n",
       "      <td>False</td>\n",
       "      <td>Twitter for iPhone</td>\n",
       "      <td>http://twitter.com/download/iphone</td>\n",
       "      <td>RT @realDonaldTrump: I will be interviewed on ...</td>\n",
       "      <td>False</td>\n",
       "    </tr>\n",
       "    <tr>\n",
       "      <th>1</th>\n",
       "      <td>None</td>\n",
       "      <td>2018-10-14 19:54:20</td>\n",
       "      <td>51810</td>\n",
       "      <td>False</td>\n",
       "      <td>None</td>\n",
       "      <td>1051561865061502977</td>\n",
       "      <td>None</td>\n",
       "      <td>None</td>\n",
       "      <td>True</td>\n",
       "      <td>en</td>\n",
       "      <td>None</td>\n",
       "      <td>False</td>\n",
       "      <td>13051</td>\n",
       "      <td>False</td>\n",
       "      <td>Twitter for iPhone</td>\n",
       "      <td>http://twitter.com/download/iphone</td>\n",
       "      <td>Thank you to NBC for the correction! https://t...</td>\n",
       "      <td>False</td>\n",
       "    </tr>\n",
       "    <tr>\n",
       "      <th>2</th>\n",
       "      <td>None</td>\n",
       "      <td>2018-10-14 19:45:05</td>\n",
       "      <td>45492</td>\n",
       "      <td>False</td>\n",
       "      <td>None</td>\n",
       "      <td>1051559539605164034</td>\n",
       "      <td>None</td>\n",
       "      <td>None</td>\n",
       "      <td>True</td>\n",
       "      <td>en</td>\n",
       "      <td>None</td>\n",
       "      <td>False</td>\n",
       "      <td>9186</td>\n",
       "      <td>False</td>\n",
       "      <td>Twitter for iPhone</td>\n",
       "      <td>http://twitter.com/download/iphone</td>\n",
       "      <td>Thank you! https://t.co/CrExOML9Mi</td>\n",
       "      <td>False</td>\n",
       "    </tr>\n",
       "    <tr>\n",
       "      <th>3</th>\n",
       "      <td>None</td>\n",
       "      <td>2018-10-14 19:44:20</td>\n",
       "      <td>0</td>\n",
       "      <td>False</td>\n",
       "      <td>None</td>\n",
       "      <td>1051559350047821826</td>\n",
       "      <td>None</td>\n",
       "      <td>None</td>\n",
       "      <td>False</td>\n",
       "      <td>und</td>\n",
       "      <td>None</td>\n",
       "      <td>False</td>\n",
       "      <td>4885</td>\n",
       "      <td>False</td>\n",
       "      <td>Twitter for iPhone</td>\n",
       "      <td>http://twitter.com/download/iphone</td>\n",
       "      <td>RT @IVT2020: @realDonaldTrump https://t.co/cvY...</td>\n",
       "      <td>False</td>\n",
       "    </tr>\n",
       "    <tr>\n",
       "      <th>4</th>\n",
       "      <td>None</td>\n",
       "      <td>2018-10-14 19:39:16</td>\n",
       "      <td>48219</td>\n",
       "      <td>False</td>\n",
       "      <td>None</td>\n",
       "      <td>1051558072433463297</td>\n",
       "      <td>None</td>\n",
       "      <td>None</td>\n",
       "      <td>False</td>\n",
       "      <td>en</td>\n",
       "      <td>None</td>\n",
       "      <td>Unavailable</td>\n",
       "      <td>9731</td>\n",
       "      <td>False</td>\n",
       "      <td>Twitter for iPhone</td>\n",
       "      <td>http://twitter.com/download/iphone</td>\n",
       "      <td>I will be interviewed on “60 Minutes” tonight ...</td>\n",
       "      <td>False</td>\n",
       "    </tr>\n",
       "  </tbody>\n",
       "</table>\n",
       "</div>"
      ],
      "text/plain": [
       "  coordinates           created_at favorite_count favorited   geo  \\\n",
       "0        None  2018-10-14 22:44:59              0     False  None   \n",
       "1        None  2018-10-14 19:54:20          51810     False  None   \n",
       "2        None  2018-10-14 19:45:05          45492     False  None   \n",
       "3        None  2018-10-14 19:44:20              0     False  None   \n",
       "4        None  2018-10-14 19:39:16          48219     False  None   \n",
       "\n",
       "                    id in_reply_to_screen_name in_reply_to_status_id  \\\n",
       "0  1051604811530072066                    None                  None   \n",
       "1  1051561865061502977                    None                  None   \n",
       "2  1051559539605164034                    None                  None   \n",
       "3  1051559350047821826                    None                  None   \n",
       "4  1051558072433463297                    None                  None   \n",
       "\n",
       "  is_quote_status lang place possibly_sensitive retweet_count retweeted  \\\n",
       "0           False   en  None        Unavailable          9731     False   \n",
       "1            True   en  None              False         13051     False   \n",
       "2            True   en  None              False          9186     False   \n",
       "3           False  und  None              False          4885     False   \n",
       "4           False   en  None        Unavailable          9731     False   \n",
       "\n",
       "               source                          source_url  \\\n",
       "0  Twitter for iPhone  http://twitter.com/download/iphone   \n",
       "1  Twitter for iPhone  http://twitter.com/download/iphone   \n",
       "2  Twitter for iPhone  http://twitter.com/download/iphone   \n",
       "3  Twitter for iPhone  http://twitter.com/download/iphone   \n",
       "4  Twitter for iPhone  http://twitter.com/download/iphone   \n",
       "\n",
       "                                                text truncated  \n",
       "0  RT @realDonaldTrump: I will be interviewed on ...     False  \n",
       "1  Thank you to NBC for the correction! https://t...     False  \n",
       "2                 Thank you! https://t.co/CrExOML9Mi     False  \n",
       "3  RT @IVT2020: @realDonaldTrump https://t.co/cvY...     False  \n",
       "4  I will be interviewed on “60 Minutes” tonight ...     False  "
      ]
     },
     "execution_count": 12,
     "metadata": {},
     "output_type": "execute_result"
    }
   ],
   "source": [
    "df_tweets.head(5)"
   ]
  },
  {
   "cell_type": "markdown",
   "metadata": {},
   "source": [
    "# ANALYSIS\n",
    "\n",
    "## OK. Now that the data has been collected, let's look at Question-1: What was the literal device source from which the tweets were typed?\n",
    "The twitter API provides for a 'source' field. [Reference link: \n",
    "https://developer.twitter.com/en/docs/tweets/data-dictionary/overview/tweet-object ]\n",
    "\n",
    "source\t: String\t: *Utility used to post the Tweet, as an HTML-formatted string. Tweets from the Twitter website have a source value of web.\n",
    "Example: \"source\":\"Twitter for Mac\"*\n",
    "\n",
    "So, here are the results:"
   ]
  },
  {
   "cell_type": "code",
   "execution_count": 13,
   "metadata": {},
   "outputs": [
    {
     "data": {
      "image/png": "[encoded data removed]",
      "text/plain": [
       "<Figure size 432x288 with 1 Axes>"
      ]
     },
     "metadata": {},
     "output_type": "display_data"
    }
   ],
   "source": [
    "df_tweets.source.value_counts().plot(kind='barh');\n",
    "plt.title(df_tweets.source.value_counts());"
   ]
  },
  {
   "cell_type": "code",
   "execution_count": 14,
   "metadata": {},
   "outputs": [
    {
     "data": {
      "text/plain": [
       "Twitter for iPhone    3103\n",
       "Media Studio            67\n",
       "Twitter for iPad        37\n",
       "Twitter Web Client      36\n",
       "Name: source, dtype: int64"
      ]
     },
     "execution_count": 14,
     "metadata": {},
     "output_type": "execute_result"
    }
   ],
   "source": [
    "df_tweets.source.value_counts()"
   ]
  },
  {
   "cell_type": "markdown",
   "metadata": {},
   "source": [
    "If you are wondering what 'Media studio' is from where 67 tweets seem to have emanated, here is twitter's official description:\n",
    "*\"Media Studio, which replaces video.twitter.com, is an even more comprehensive desktop destination where you can access all of our video publishing tools and resources in one place.\"*\n",
    "\n",
    "\n",
    "https://blog.twitter.com/official/en_au/a/2016/au-launching-twitter-media-studio.html\n",
    "\n",
    "Also, as far the iPhone usage is concerned, politico had a story on this that you can access here:\n",
    "\n",
    "https://www.politico.com/story/2018/05/21/trump-phone-security-risk-hackers-601903"
   ]
  },
  {
   "cell_type": "markdown",
   "metadata": {},
   "source": [
    "# Question-2 - Time aspect of it all:\n",
    "\n",
    "Before we answer that question, we need t pay a lip service to careful timestamp conversion. According to the API documentation:\n",
    "\n",
    "Field: 'created_at' :String\t: UTC time when this Tweet was created. \n",
    "\n",
    "Example: \"created_at\":\"Wed Aug 27 13:08:45 +0000 2008\"\n",
    "\n",
    "OK, so we need to convert all the timestamps from UTC to Wasington DC local time, which would be US/Eastern.  Before, we use the *pytz* solution, let's build some ground-truth for verification. Howevering over the tweet gives you the local time of posting of the tweet. Also, inspecting the source (By either Right- Click + 'inspect source' or Ctrl+Shift+I in chrome) gives you the Unix epoch time stamp that can then be converted to the local time. So, let's check the latest tweet in the image below:\n",
    "\n",
    "\n",
    "<img src=\"sanity_check.png\",width=600,height=600>\n",
    "\n",
    "OK, so both the methods point to the fact that the tweet was posted at 15:54 pm Eastern time or 12:54 Pacific time. "
   ]
  },
  {
   "cell_type": "code",
   "execution_count": 15,
   "metadata": {},
   "outputs": [
    {
     "name": "stdout",
     "output_type": "stream",
     "text": [
      "RT @realDonaldTrump: I will be interviewed on “60 Minutes” tonight at 7:00 P.M., after NFL game. Enjoy! 2018-10-14 18:44:59-04:00\n"
     ]
    }
   ],
   "source": [
    "import pytz\n",
    "from datetime import datetime\n",
    "\n",
    "est = pytz.timezone('US/Eastern')\n",
    "utc = pytz.utc\n",
    "\n",
    "print(df_tweets.text[0], utc.localize(df_tweets.created_at[0]).astimezone(est))"
   ]
  },
  {
   "cell_type": "code",
   "execution_count": 16,
   "metadata": {},
   "outputs": [
    {
     "data": {
      "text/plain": [
       "18"
      ]
     },
     "execution_count": 16,
     "metadata": {},
     "output_type": "execute_result"
    }
   ],
   "source": [
    "# SO, LET'S VEREIFY IT!\n",
    "utc.localize(df_tweets.created_at[0]).astimezone(est).hour"
   ]
  },
  {
   "cell_type": "markdown",
   "metadata": {},
   "source": [
    " ##  BOOM! \n",
    " Cool. So, let's add a column of *hour_DC* to the dataframe"
   ]
  },
  {
   "cell_type": "code",
   "execution_count": 17,
   "metadata": {
    "collapsed": true
   },
   "outputs": [],
   "source": [
    "def convert_ET(ts):\n",
    "    return utc.localize(ts).astimezone(est)\n",
    "def convert_ET_hour(ts):\n",
    "    return utc.localize(ts).astimezone(est).hour\n",
    "def convert_ET_weekday(ts):\n",
    "    return utc.localize(ts).astimezone(est).weekday()\n"
   ]
  },
  {
   "cell_type": "code",
   "execution_count": 18,
   "metadata": {
    "collapsed": true
   },
   "outputs": [],
   "source": [
    "df_tweets['time_EST']=df_tweets.created_at.apply(convert_ET)\n",
    "df_tweets['time_hr']=df_tweets.created_at.apply(convert_ET_hour)\n",
    "df_tweets['time_weekday']=df_tweets.created_at.apply(convert_ET_weekday)"
   ]
  },
  {
   "cell_type": "code",
   "execution_count": 21,
   "metadata": {},
   "outputs": [
    {
     "data": {
      "image/png": "[encoded data removed]",
      "text/plain": [
       "<Figure size 1080x360 with 2 Axes>"
      ]
     },
     "metadata": {},
     "output_type": "display_data"
    }
   ],
   "source": [
    "plt.figure(figsize=(15,5))\n",
    "plt.subplot(121)\n",
    "count=df_tweets.time_weekday.value_counts().sort_index().values\n",
    "x_vec=df_tweets.time_weekday.value_counts().sort_index().index.values\n",
    "df_tweets.time_weekday.value_counts().sort_index().plot(kind='bar');\n",
    "for i in range(len(x_vec)):\n",
    "    plt.text(x = x_vec[i]-0.25 , y = count[i]+0.2, s = count[i], size = 10)\n",
    "\n",
    "plt.title('Monday is 0 and Sunday is 6')\n",
    "plt.ylabel('Number of tweets');\n",
    "plt.xlabel('Day of the week');\n",
    "\n",
    "###############################\n",
    "\n",
    "\n",
    "plt.subplot(122)\n",
    "count=df_tweets.time_hr.value_counts().sort_index().values\n",
    "x_vec=df_tweets.time_hr.value_counts().sort_index().index.values\n",
    "df_tweets.time_hr.value_counts().sort_index().plot(kind='bar');\n",
    "for i in range(len(x_vec)):\n",
    "    plt.text(x = x_vec[i]-0.25 , y = count[i]+0.2, s = count[i], size = 10)\n",
    "\n",
    "plt.title(' Fox and friends airs from 6 AM to 9 AM')\n",
    "plt.ylabel('Number of tweets');\n",
    "plt.xlabel('Hour of the day');\n",
    "######################\n"
   ]
  },
  {
   "cell_type": "markdown",
   "metadata": {},
   "source": [
    "So yeah, the peaks between 6 AM and 9 AM is what the press has labelled as 'hyperaggressive early morning tweetstorms' (Link: https://www.politico.com/magazine/story/2018/01/05/trump-media-feedback-loop-216248 ) also widely hypothesized to be fuelled by what seems like a 3 hour show titled 'Fox & Friends' (Never watched it. Don't wake up that early)\n",
    "\n",
    "Additional link: https://www.mediamatters.org/blog/2017/03/20/bigotry-and-idiocy-donald-trumps-favorite-news-show/215759"
   ]
  },
  {
   "cell_type": "code",
   "execution_count": 20,
   "metadata": {},
   "outputs": [
    {
     "data": {
      "text/plain": [
       "<matplotlib.axes._subplots.AxesSubplot at 0x2074b6d73c8>"
      ]
     },
     "execution_count": 20,
     "metadata": {},
     "output_type": "execute_result"
    },
    {
     "data": {
      "image/png": "[encoded data removed]",
      "text/plain": [
       "<Figure size 432x288 with 2 Axes>"
      ]
     },
     "metadata": {},
     "output_type": "display_data"
    }
   ],
   "source": [
    "ct_day_hr=pd.crosstab(df_tweets.time_weekday,df_tweets.time_hr)\n",
    "sns.heatmap(ct_day_hr)"
   ]
  },
  {
   "cell_type": "markdown",
   "metadata": {},
   "source": [
    "# Is there a chance that this 6-9 am tweet storm has significant contribution from source devices that might not be his iPhone?"
   ]
  },
  {
   "cell_type": "code",
   "execution_count": 22,
   "metadata": {},
   "outputs": [
    {
     "data": {
      "image/png": "[encoded data removed]",
      "text/plain": [
       "<Figure size 432x288 with 4 Axes>"
      ]
     },
     "metadata": {},
     "output_type": "display_data"
    }
   ],
   "source": [
    "df_source=df_tweets.groupby('source')['time_hr'].value_counts().sort_index()\n",
    "source_list=df_tweets.source.unique()\n",
    "for i,src in enumerate(source_list):\n",
    "    plt.subplot(2,2,i+1)\n",
    "    df_source[src].plot(kind='bar')\n",
    "    plt.title(src)\n",
    "\n",
    "plt.suptitle('Variation of tweet times with device source')\n",
    "plt.tight_layout( rect=[0, 0.03, 1, 0.95]) "
   ]
  },
  {
   "cell_type": "markdown",
   "metadata": {},
   "source": [
    "# Nope!"
   ]
  }
 ],
 "metadata": {
  "colab": {
   "name": "twitter_analysis.ipynb",
   "provenance": [],
   "version": "0.3.2"
  },
  "kernelspec": {
   "display_name": "Python 3",
   "language": "python",
   "name": "python3"
  },
  "language_info": {
   "codemirror_mode": {
    "name": "ipython",
    "version": 3
   },
   "file_extension": ".py",
   "mimetype": "text/x-python",
   "name": "python",
   "nbconvert_exporter": "python",
   "pygments_lexer": "ipython3",
   "version": "3.6.3"
  },
  "latex_envs": {
   "LaTeX_envs_menu_present": true,
   "autoclose": false,
   "autocomplete": true,
   "bibliofile": "biblio.bib",
   "cite_by": "apalike",
   "current_citInitial": 1,
   "eqLabelWithNumbers": true,
   "eqNumInitial": 1,
   "hotkeys": {
    "equation": "Ctrl-E",
    "itemize": "Ctrl-I"
   },
   "labels_anchors": false,
   "latex_user_defs": false,
   "report_style_numbering": false,
   "user_envs_cfg": false
  },
  "nbTranslate": {
   "displayLangs": [
    "*"
   ],
   "hotkey": "alt-t",
   "langInMainMenu": true,
   "sourceLang": "en",
   "targetLang": "fr",
   "useGoogleTranslate": true
  },
  "varInspector": {
   "cols": {
    "lenName": 16,
    "lenType": 16,
    "lenVar": 40
   },
   "kernels_config": {
    "python": {
     "delete_cmd_postfix": "",
     "delete_cmd_prefix": "del ",
     "library": "var_list.py",
     "varRefreshCmd": "print(var_dic_list())"
    },
    "r": {
     "delete_cmd_postfix": ") ",
     "delete_cmd_prefix": "rm(",
     "library": "var_list.r",
     "varRefreshCmd": "cat(var_dic_list()) "
    }
   },
   "types_to_exclude": [
    "module",
    "function",
    "builtin_function_or_method",
    "instance",
    "_Feature"
   ],
   "window_display": false
  }
 },
 "nbformat": 4,
 "nbformat_minor": 1
}
